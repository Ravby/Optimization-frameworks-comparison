{
 "cells": [
  {
   "cell_type": "markdown",
   "metadata": {
    "pycharm": {
     "name": "#%%\n"
    }
   },
   "source": [
    "## Import libraries"
   ]
  },
  {
   "cell_type": "code",
   "execution_count": 6,
   "metadata": {
    "pycharm": {
     "name": "#%%\n"
    }
   },
   "outputs": [],
   "source": [
    "import numpy as np\n",
    "from mealpy.bio_based import BBO\n",
    "from mealpy.tuner import Tuner     # We will use this Tuner utility\n"
   ]
  },
  {
   "cell_type": "markdown",
   "metadata": {},
   "source": [
    "## Define problem"
   ]
  },
  {
   "cell_type": "code",
   "execution_count": 8,
   "metadata": {
    "pycharm": {
     "name": "#%%\n"
    }
   },
   "outputs": [],
   "source": [
    "def fitness(solution):\n",
    "    return np.sum(solution**2) + np.sum(solution**3)\n",
    "\n",
    "problem = {\n",
    "    \"lb\": [-10] * 20,    # 20 dimensions\n",
    "    \"ub\": [10] * 20,\n",
    "    \"minmax\": \"min\",\n",
    "    \"fit_func\": fitness,\n",
    "    \"name\": \"Mixed Square and Cube Problem\",\n",
    "    \"log_to\": None,\n",
    "}"
   ]
  },
  {
   "cell_type": "markdown",
   "metadata": {},
   "source": [
    "## Define model and parameter grid of the model (just like ParameterGrid / GridSearchCV)\n"
   ]
  },
  {
   "cell_type": "code",
   "execution_count": 3,
   "metadata": {},
   "outputs": [],
   "source": [
    "model = BBO.BaseBBO()\n",
    "\n",
    "paras_bbo_grid = {\n",
    "    \"epoch\": [100],\n",
    "    \"pop_size\": [50],\n",
    "    \"elites\": [2, 3, 4, 5],\n",
    "    \"p_m\": [0.01, 0.02, 0.05, 0.1, 0.15, 0.2]\n",
    "}"
   ]
  },
  {
   "cell_type": "markdown",
   "metadata": {},
   "source": [
    "## Define the Tuner "
   ]
  },
  {
   "cell_type": "code",
   "execution_count": 9,
   "metadata": {},
   "outputs": [],
   "source": [
    "if __name__ == \"__main__\":\n",
    "    \n",
    "    tuner = Tuner(model, paras_bbo_grid)"
   ]
  },
  {
   "cell_type": "markdown",
   "metadata": {},
   "source": [
    "## Run the Tuner to find the best parameters"
   ]
  },
  {
   "cell_type": "code",
   "execution_count": 10,
   "metadata": {},
   "outputs": [
    {
     "ename": "BrokenProcessPool",
     "evalue": "A process in the process pool was terminated abruptly while the future was running or pending.",
     "output_type": "error",
     "traceback": [
      "\u001B[1;31m---------------------------------------------------------------------------\u001B[0m",
      "\u001B[1;31mBrokenProcessPool\u001B[0m                         Traceback (most recent call last)",
      "Cell \u001B[1;32mIn [10], line 3\u001B[0m\n\u001B[0;32m      1\u001B[0m \u001B[38;5;66;03m## Try to run this optimizer on this problem 10 times (n_trials = 10). \u001B[39;00m\n\u001B[0;32m      2\u001B[0m \u001B[38;5;66;03m## Get the best model by mean value of all trials\u001B[39;00m\n\u001B[1;32m----> 3\u001B[0m \u001B[43mtuner\u001B[49m\u001B[38;5;241;43m.\u001B[39;49m\u001B[43mexecute\u001B[49m\u001B[43m(\u001B[49m\u001B[43mproblem\u001B[49m\u001B[38;5;241;43m=\u001B[39;49m\u001B[43mproblem\u001B[49m\u001B[43m,\u001B[49m\u001B[43m \u001B[49m\u001B[43mn_trials\u001B[49m\u001B[38;5;241;43m=\u001B[39;49m\u001B[38;5;241;43m10\u001B[39;49m\u001B[43m,\u001B[49m\u001B[43m \u001B[49m\u001B[43mmode\u001B[49m\u001B[38;5;241;43m=\u001B[39;49m\u001B[38;5;124;43m\"\u001B[39;49m\u001B[38;5;124;43mparallel\u001B[39;49m\u001B[38;5;124;43m\"\u001B[39;49m\u001B[43m,\u001B[49m\u001B[43m \u001B[49m\u001B[43mn_workers\u001B[49m\u001B[38;5;241;43m=\u001B[39;49m\u001B[38;5;241;43m4\u001B[39;49m\u001B[43m)\u001B[49m\n\u001B[0;32m      5\u001B[0m \u001B[38;5;66;03m## Better to save the tunning results to CSV for later usage\u001B[39;00m\n\u001B[0;32m      6\u001B[0m tuner\u001B[38;5;241m.\u001B[39mexport_results(\u001B[38;5;124m\"\u001B[39m\u001B[38;5;124mhistory/tuning\u001B[39m\u001B[38;5;124m\"\u001B[39m, save_as\u001B[38;5;241m=\u001B[39m\u001B[38;5;124m\"\u001B[39m\u001B[38;5;124mcsv\u001B[39m\u001B[38;5;124m\"\u001B[39m)\n",
      "File \u001B[1;32mD:\\github\\libs\\mealpy\\mealpy\\utils\\app\\tuner.py:260\u001B[0m, in \u001B[0;36mTuner.execute\u001B[1;34m(self, problem, n_trials, mode, n_workers, verbose)\u001B[0m\n\u001B[0;32m    258\u001B[0m \u001B[38;5;28;01mwith\u001B[39;00m parallel\u001B[38;5;241m.\u001B[39mProcessPoolExecutor(n_workers) \u001B[38;5;28;01mas\u001B[39;00m executor:\n\u001B[0;32m    259\u001B[0m     list_results \u001B[38;5;241m=\u001B[39m executor\u001B[38;5;241m.\u001B[39mmap(\u001B[38;5;28mself\u001B[39m\u001B[38;5;241m.\u001B[39m__run__, trial_list)  \u001B[38;5;66;03m# Return results as original order not the future object\u001B[39;00m\n\u001B[1;32m--> 260\u001B[0m     \u001B[38;5;28;01mfor\u001B[39;00m (idx, best_fitness) \u001B[38;5;129;01min\u001B[39;00m list_results:\n\u001B[0;32m    261\u001B[0m         best_fit_results[\u001B[38;5;241m-\u001B[39m\u001B[38;5;241m1\u001B[39m][trial_columns[idx]] \u001B[38;5;241m=\u001B[39m best_fitness\n\u001B[0;32m    262\u001B[0m         \u001B[38;5;28;01mif\u001B[39;00m verbose:\n",
      "File \u001B[1;32m~\\AppData\\Local\\Programs\\Python\\Python38\\lib\\concurrent\\futures\\process.py:484\u001B[0m, in \u001B[0;36m_chain_from_iterable_of_lists\u001B[1;34m(iterable)\u001B[0m\n\u001B[0;32m    478\u001B[0m \u001B[38;5;28;01mdef\u001B[39;00m \u001B[38;5;21m_chain_from_iterable_of_lists\u001B[39m(iterable):\n\u001B[0;32m    479\u001B[0m     \u001B[38;5;124;03m\"\"\"\u001B[39;00m\n\u001B[0;32m    480\u001B[0m \u001B[38;5;124;03m    Specialized implementation of itertools.chain.from_iterable.\u001B[39;00m\n\u001B[0;32m    481\u001B[0m \u001B[38;5;124;03m    Each item in *iterable* should be a list.  This function is\u001B[39;00m\n\u001B[0;32m    482\u001B[0m \u001B[38;5;124;03m    careful not to keep references to yielded objects.\u001B[39;00m\n\u001B[0;32m    483\u001B[0m \u001B[38;5;124;03m    \"\"\"\u001B[39;00m\n\u001B[1;32m--> 484\u001B[0m     \u001B[38;5;28;01mfor\u001B[39;00m element \u001B[38;5;129;01min\u001B[39;00m iterable:\n\u001B[0;32m    485\u001B[0m         element\u001B[38;5;241m.\u001B[39mreverse()\n\u001B[0;32m    486\u001B[0m         \u001B[38;5;28;01mwhile\u001B[39;00m element:\n",
      "File \u001B[1;32m~\\AppData\\Local\\Programs\\Python\\Python38\\lib\\concurrent\\futures\\_base.py:611\u001B[0m, in \u001B[0;36mExecutor.map.<locals>.result_iterator\u001B[1;34m()\u001B[0m\n\u001B[0;32m    608\u001B[0m \u001B[38;5;28;01mwhile\u001B[39;00m fs:\n\u001B[0;32m    609\u001B[0m     \u001B[38;5;66;03m# Careful not to keep a reference to the popped future\u001B[39;00m\n\u001B[0;32m    610\u001B[0m     \u001B[38;5;28;01mif\u001B[39;00m timeout \u001B[38;5;129;01mis\u001B[39;00m \u001B[38;5;28;01mNone\u001B[39;00m:\n\u001B[1;32m--> 611\u001B[0m         \u001B[38;5;28;01myield\u001B[39;00m \u001B[43mfs\u001B[49m\u001B[38;5;241;43m.\u001B[39;49m\u001B[43mpop\u001B[49m\u001B[43m(\u001B[49m\u001B[43m)\u001B[49m\u001B[38;5;241;43m.\u001B[39;49m\u001B[43mresult\u001B[49m\u001B[43m(\u001B[49m\u001B[43m)\u001B[49m\n\u001B[0;32m    612\u001B[0m     \u001B[38;5;28;01melse\u001B[39;00m:\n\u001B[0;32m    613\u001B[0m         \u001B[38;5;28;01myield\u001B[39;00m fs\u001B[38;5;241m.\u001B[39mpop()\u001B[38;5;241m.\u001B[39mresult(end_time \u001B[38;5;241m-\u001B[39m time\u001B[38;5;241m.\u001B[39mmonotonic())\n",
      "File \u001B[1;32m~\\AppData\\Local\\Programs\\Python\\Python38\\lib\\concurrent\\futures\\_base.py:439\u001B[0m, in \u001B[0;36mFuture.result\u001B[1;34m(self, timeout)\u001B[0m\n\u001B[0;32m    437\u001B[0m     \u001B[38;5;28;01mraise\u001B[39;00m CancelledError()\n\u001B[0;32m    438\u001B[0m \u001B[38;5;28;01melif\u001B[39;00m \u001B[38;5;28mself\u001B[39m\u001B[38;5;241m.\u001B[39m_state \u001B[38;5;241m==\u001B[39m FINISHED:\n\u001B[1;32m--> 439\u001B[0m     \u001B[38;5;28;01mreturn\u001B[39;00m \u001B[38;5;28;43mself\u001B[39;49m\u001B[38;5;241;43m.\u001B[39;49m\u001B[43m__get_result\u001B[49m\u001B[43m(\u001B[49m\u001B[43m)\u001B[49m\n\u001B[0;32m    440\u001B[0m \u001B[38;5;28;01melse\u001B[39;00m:\n\u001B[0;32m    441\u001B[0m     \u001B[38;5;28;01mraise\u001B[39;00m \u001B[38;5;167;01mTimeoutError\u001B[39;00m()\n",
      "File \u001B[1;32m~\\AppData\\Local\\Programs\\Python\\Python38\\lib\\concurrent\\futures\\_base.py:388\u001B[0m, in \u001B[0;36mFuture.__get_result\u001B[1;34m(self)\u001B[0m\n\u001B[0;32m    386\u001B[0m \u001B[38;5;28;01mdef\u001B[39;00m \u001B[38;5;21m__get_result\u001B[39m(\u001B[38;5;28mself\u001B[39m):\n\u001B[0;32m    387\u001B[0m     \u001B[38;5;28;01mif\u001B[39;00m \u001B[38;5;28mself\u001B[39m\u001B[38;5;241m.\u001B[39m_exception:\n\u001B[1;32m--> 388\u001B[0m         \u001B[38;5;28;01mraise\u001B[39;00m \u001B[38;5;28mself\u001B[39m\u001B[38;5;241m.\u001B[39m_exception\n\u001B[0;32m    389\u001B[0m     \u001B[38;5;28;01melse\u001B[39;00m:\n\u001B[0;32m    390\u001B[0m         \u001B[38;5;28;01mreturn\u001B[39;00m \u001B[38;5;28mself\u001B[39m\u001B[38;5;241m.\u001B[39m_result\n",
      "\u001B[1;31mBrokenProcessPool\u001B[0m: A process in the process pool was terminated abruptly while the future was running or pending."
     ]
    }
   ],
   "source": [
    "    ## Try to run this optimizer on this problem 10 times (n_trials = 10). \n",
    "    ## Get the best model by mean value of all trials\n",
    "    tuner.execute(problem=problem, n_trials=10, mode=\"parallel\", n_workers=4)\n",
    "    \n",
    "    ## Better to save the tunning results to CSV for later usage\n",
    "    tuner.export_results(\"history/tuning1\", save_as=\"csv\")\n",
    "    \n",
    "    ## Print out the best pameters\n",
    "    print(f\"Best parameter: {tuner.best_params}\")\n",
    "    \n",
    "    ## Print out the best score of the best parameter\n",
    "    print(f\"Best score: {tuner.best_score}\")\n",
    "    \n",
    "    ## Print out the algorithm with the best parameter\n",
    "    print(f\"Best Optimizer: {tuner.best_algorithm}\")\n",
    "    \n",
    "    \n",
    "    ## Now we can even re-train the algorithm with the best parameter by calling resolve() function \n",
    "    ## Resolve() function will call the solve() function in algorithm with default problem parameter is removed. \n",
    "    ##    other parameters of solve() function is keeped and can be used.\n",
    "    \n",
    "    best_position, best_fitness = tuner.resolve()\n",
    "    print(f\"Best solution after re-solve: {best_position}\")\n",
    "    print(f\"Best fitness after re-solve: {best_fitness}\")\n"
   ]
  },
  {
   "cell_type": "markdown",
   "metadata": {
    "pycharm": {
     "name": "#%%\n"
    }
   },
   "source": [
    "## Can't run the parallel mode in Jupiter, but in Pycharm, Spider, or Command Line run just fine.\n",
    "\n",
    "* We can use sequential mode, which will take more times to run. (Default mode is also sequential)"
   ]
  },
  {
   "cell_type": "code",
   "execution_count": 11,
   "metadata": {
    "pycharm": {
     "name": "#%%\n"
    }
   },
   "outputs": [
    {
     "name": "stdout",
     "output_type": "stream",
     "text": [
      "Algorithm: BaseBBO, with params: {'elites': 2, 'epoch': 100, 'p_m': 0.01, 'pop_size': 50}, trial: 1, best fitness: -16812.143762951848\n",
      "Algorithm: BaseBBO, with params: {'elites': 2, 'epoch': 100, 'p_m': 0.01, 'pop_size': 50}, trial: 2, best fitness: -17094.52086843172\n",
      "Algorithm: BaseBBO, with params: {'elites': 2, 'epoch': 100, 'p_m': 0.01, 'pop_size': 50}, trial: 3, best fitness: -17186.962661208243\n",
      "Algorithm: BaseBBO, with params: {'elites': 2, 'epoch': 100, 'p_m': 0.01, 'pop_size': 50}, trial: 4, best fitness: -17343.88888381219\n",
      "Algorithm: BaseBBO, with params: {'elites': 2, 'epoch': 100, 'p_m': 0.01, 'pop_size': 50}, trial: 5, best fitness: -17381.569223388826\n",
      "Algorithm: BaseBBO, with params: {'elites': 2, 'epoch': 100, 'p_m': 0.02, 'pop_size': 50}, trial: 1, best fitness: -17522.632948665967\n",
      "Algorithm: BaseBBO, with params: {'elites': 2, 'epoch': 100, 'p_m': 0.02, 'pop_size': 50}, trial: 2, best fitness: -17619.656427563852\n",
      "Algorithm: BaseBBO, with params: {'elites': 2, 'epoch': 100, 'p_m': 0.02, 'pop_size': 50}, trial: 3, best fitness: -17682.74136391147\n",
      "Algorithm: BaseBBO, with params: {'elites': 2, 'epoch': 100, 'p_m': 0.02, 'pop_size': 50}, trial: 4, best fitness: -17768.766046848694\n",
      "Algorithm: BaseBBO, with params: {'elites': 2, 'epoch': 100, 'p_m': 0.02, 'pop_size': 50}, trial: 5, best fitness: -17771.13736244395\n",
      "Algorithm: BaseBBO, with params: {'elites': 2, 'epoch': 100, 'p_m': 0.05, 'pop_size': 50}, trial: 1, best fitness: -17778.252789043418\n",
      "Algorithm: BaseBBO, with params: {'elites': 2, 'epoch': 100, 'p_m': 0.05, 'pop_size': 50}, trial: 2, best fitness: -17800.65077707164\n",
      "Algorithm: BaseBBO, with params: {'elites': 2, 'epoch': 100, 'p_m': 0.05, 'pop_size': 50}, trial: 3, best fitness: -17830.52410182314\n",
      "Algorithm: BaseBBO, with params: {'elites': 2, 'epoch': 100, 'p_m': 0.05, 'pop_size': 50}, trial: 4, best fitness: -17878.179484892\n",
      "Algorithm: BaseBBO, with params: {'elites': 2, 'epoch': 100, 'p_m': 0.05, 'pop_size': 50}, trial: 5, best fitness: -17889.76443309904\n",
      "Algorithm: BaseBBO, with params: {'elites': 2, 'epoch': 100, 'p_m': 0.1, 'pop_size': 50}, trial: 1, best fitness: -17899.602937784533\n"
     ]
    },
    {
     "name": "stderr",
     "output_type": "stream",
     "text": [
      "D:\\github\\libs\\mealpy\\mealpy\\optimizer.py:316: RuntimeWarning: invalid value encountered in true_divide\n",
      "  self.history.list_exploration = 100 * (np.array(self.history.list_diversity) / div_max)\n"
     ]
    },
    {
     "name": "stdout",
     "output_type": "stream",
     "text": [
      "Algorithm: BaseBBO, with params: {'elites': 2, 'epoch': 100, 'p_m': 0.1, 'pop_size': 50}, trial: 2, best fitness: -17899.602937784533\n",
      "Algorithm: BaseBBO, with params: {'elites': 2, 'epoch': 100, 'p_m': 0.1, 'pop_size': 50}, trial: 3, best fitness: -17899.602937784533\n",
      "Algorithm: BaseBBO, with params: {'elites': 2, 'epoch': 100, 'p_m': 0.1, 'pop_size': 50}, trial: 4, best fitness: -17899.602937784533\n",
      "Algorithm: BaseBBO, with params: {'elites': 2, 'epoch': 100, 'p_m': 0.1, 'pop_size': 50}, trial: 5, best fitness: -17899.602937784533\n",
      "Algorithm: BaseBBO, with params: {'elites': 2, 'epoch': 100, 'p_m': 0.15, 'pop_size': 50}, trial: 1, best fitness: -17899.602937784533\n",
      "Algorithm: BaseBBO, with params: {'elites': 2, 'epoch': 100, 'p_m': 0.15, 'pop_size': 50}, trial: 2, best fitness: -17901.621013732594\n",
      "Algorithm: BaseBBO, with params: {'elites': 2, 'epoch': 100, 'p_m': 0.15, 'pop_size': 50}, trial: 3, best fitness: -17901.621013732594\n",
      "Algorithm: BaseBBO, with params: {'elites': 2, 'epoch': 100, 'p_m': 0.15, 'pop_size': 50}, trial: 4, best fitness: -17908.836376803236\n",
      "Algorithm: BaseBBO, with params: {'elites': 2, 'epoch': 100, 'p_m': 0.15, 'pop_size': 50}, trial: 5, best fitness: -17913.76298496223\n",
      "Algorithm: BaseBBO, with params: {'elites': 2, 'epoch': 100, 'p_m': 0.2, 'pop_size': 50}, trial: 1, best fitness: -17915.158309772523\n",
      "Algorithm: BaseBBO, with params: {'elites': 2, 'epoch': 100, 'p_m': 0.2, 'pop_size': 50}, trial: 2, best fitness: -17915.158309772523\n",
      "Algorithm: BaseBBO, with params: {'elites': 2, 'epoch': 100, 'p_m': 0.2, 'pop_size': 50}, trial: 3, best fitness: -17915.158309772523\n",
      "Algorithm: BaseBBO, with params: {'elites': 2, 'epoch': 100, 'p_m': 0.2, 'pop_size': 50}, trial: 4, best fitness: -17915.158309772523\n",
      "Algorithm: BaseBBO, with params: {'elites': 2, 'epoch': 100, 'p_m': 0.2, 'pop_size': 50}, trial: 5, best fitness: -17915.158309772523\n",
      "Algorithm: BaseBBO, with params: {'elites': 3, 'epoch': 100, 'p_m': 0.01, 'pop_size': 50}, trial: 1, best fitness: -17917.638861418916\n",
      "Algorithm: BaseBBO, with params: {'elites': 3, 'epoch': 100, 'p_m': 0.01, 'pop_size': 50}, trial: 2, best fitness: -17917.638861418916\n",
      "Algorithm: BaseBBO, with params: {'elites': 3, 'epoch': 100, 'p_m': 0.01, 'pop_size': 50}, trial: 3, best fitness: -17917.638861418916\n",
      "Algorithm: BaseBBO, with params: {'elites': 3, 'epoch': 100, 'p_m': 0.01, 'pop_size': 50}, trial: 4, best fitness: -17917.638861418916\n",
      "Algorithm: BaseBBO, with params: {'elites': 3, 'epoch': 100, 'p_m': 0.01, 'pop_size': 50}, trial: 5, best fitness: -17917.638861418916\n",
      "Algorithm: BaseBBO, with params: {'elites': 3, 'epoch': 100, 'p_m': 0.02, 'pop_size': 50}, trial: 1, best fitness: -17917.638861418916\n",
      "Algorithm: BaseBBO, with params: {'elites': 3, 'epoch': 100, 'p_m': 0.02, 'pop_size': 50}, trial: 2, best fitness: -17919.643182681833\n",
      "Algorithm: BaseBBO, with params: {'elites': 3, 'epoch': 100, 'p_m': 0.02, 'pop_size': 50}, trial: 3, best fitness: -17921.657626514887\n",
      "Algorithm: BaseBBO, with params: {'elites': 3, 'epoch': 100, 'p_m': 0.02, 'pop_size': 50}, trial: 4, best fitness: -17921.657626514887\n",
      "Algorithm: BaseBBO, with params: {'elites': 3, 'epoch': 100, 'p_m': 0.02, 'pop_size': 50}, trial: 5, best fitness: -17921.657626514887\n",
      "Algorithm: BaseBBO, with params: {'elites': 3, 'epoch': 100, 'p_m': 0.05, 'pop_size': 50}, trial: 1, best fitness: -17921.657626514887\n",
      "Algorithm: BaseBBO, with params: {'elites': 3, 'epoch': 100, 'p_m': 0.05, 'pop_size': 50}, trial: 2, best fitness: -17929.740221923337\n",
      "Algorithm: BaseBBO, with params: {'elites': 3, 'epoch': 100, 'p_m': 0.05, 'pop_size': 50}, trial: 3, best fitness: -17929.740221923337\n",
      "Algorithm: BaseBBO, with params: {'elites': 3, 'epoch': 100, 'p_m': 0.05, 'pop_size': 50}, trial: 4, best fitness: -17939.67862949264\n",
      "Algorithm: BaseBBO, with params: {'elites': 3, 'epoch': 100, 'p_m': 0.05, 'pop_size': 50}, trial: 5, best fitness: -17945.21269206375\n",
      "Algorithm: BaseBBO, with params: {'elites': 3, 'epoch': 100, 'p_m': 0.1, 'pop_size': 50}, trial: 1, best fitness: -17954.185323487138\n",
      "Algorithm: BaseBBO, with params: {'elites': 3, 'epoch': 100, 'p_m': 0.1, 'pop_size': 50}, trial: 2, best fitness: -17954.185323487138\n",
      "Algorithm: BaseBBO, with params: {'elites': 3, 'epoch': 100, 'p_m': 0.1, 'pop_size': 50}, trial: 3, best fitness: -17954.185323487138\n",
      "Algorithm: BaseBBO, with params: {'elites': 3, 'epoch': 100, 'p_m': 0.1, 'pop_size': 50}, trial: 4, best fitness: -17955.5951224566\n",
      "Algorithm: BaseBBO, with params: {'elites': 3, 'epoch': 100, 'p_m': 0.1, 'pop_size': 50}, trial: 5, best fitness: -17955.5951224566\n",
      "Algorithm: BaseBBO, with params: {'elites': 3, 'epoch': 100, 'p_m': 0.15, 'pop_size': 50}, trial: 1, best fitness: -17955.5951224566\n",
      "Algorithm: BaseBBO, with params: {'elites': 3, 'epoch': 100, 'p_m': 0.15, 'pop_size': 50}, trial: 2, best fitness: -17955.5951224566\n",
      "Algorithm: BaseBBO, with params: {'elites': 3, 'epoch': 100, 'p_m': 0.15, 'pop_size': 50}, trial: 3, best fitness: -17959.942686204336\n",
      "Algorithm: BaseBBO, with params: {'elites': 3, 'epoch': 100, 'p_m': 0.15, 'pop_size': 50}, trial: 4, best fitness: -17959.942686204336\n",
      "Algorithm: BaseBBO, with params: {'elites': 3, 'epoch': 100, 'p_m': 0.15, 'pop_size': 50}, trial: 5, best fitness: -17959.942686204336\n",
      "Algorithm: BaseBBO, with params: {'elites': 3, 'epoch': 100, 'p_m': 0.2, 'pop_size': 50}, trial: 1, best fitness: -17959.942686204336\n",
      "Algorithm: BaseBBO, with params: {'elites': 3, 'epoch': 100, 'p_m': 0.2, 'pop_size': 50}, trial: 2, best fitness: -17959.942686204336\n",
      "Algorithm: BaseBBO, with params: {'elites': 3, 'epoch': 100, 'p_m': 0.2, 'pop_size': 50}, trial: 3, best fitness: -17961.467127514927\n",
      "Algorithm: BaseBBO, with params: {'elites': 3, 'epoch': 100, 'p_m': 0.2, 'pop_size': 50}, trial: 4, best fitness: -17961.467127514927\n",
      "Algorithm: BaseBBO, with params: {'elites': 3, 'epoch': 100, 'p_m': 0.2, 'pop_size': 50}, trial: 5, best fitness: -17961.467127514927\n",
      "Algorithm: BaseBBO, with params: {'elites': 4, 'epoch': 100, 'p_m': 0.01, 'pop_size': 50}, trial: 1, best fitness: -17961.467127514927\n",
      "Algorithm: BaseBBO, with params: {'elites': 4, 'epoch': 100, 'p_m': 0.01, 'pop_size': 50}, trial: 2, best fitness: -17961.467127514927\n",
      "Algorithm: BaseBBO, with params: {'elites': 4, 'epoch': 100, 'p_m': 0.01, 'pop_size': 50}, trial: 3, best fitness: -17961.467127514927\n",
      "Algorithm: BaseBBO, with params: {'elites': 4, 'epoch': 100, 'p_m': 0.01, 'pop_size': 50}, trial: 4, best fitness: -17961.467127514927\n",
      "Algorithm: BaseBBO, with params: {'elites': 4, 'epoch': 100, 'p_m': 0.01, 'pop_size': 50}, trial: 5, best fitness: -17961.467127514927\n",
      "Algorithm: BaseBBO, with params: {'elites': 4, 'epoch': 100, 'p_m': 0.02, 'pop_size': 50}, trial: 1, best fitness: -17961.467127514927\n",
      "Algorithm: BaseBBO, with params: {'elites': 4, 'epoch': 100, 'p_m': 0.02, 'pop_size': 50}, trial: 2, best fitness: -17963.906755091215\n",
      "Algorithm: BaseBBO, with params: {'elites': 4, 'epoch': 100, 'p_m': 0.02, 'pop_size': 50}, trial: 3, best fitness: -17964.485598255724\n",
      "Algorithm: BaseBBO, with params: {'elites': 4, 'epoch': 100, 'p_m': 0.02, 'pop_size': 50}, trial: 4, best fitness: -17967.205812401004\n",
      "Algorithm: BaseBBO, with params: {'elites': 4, 'epoch': 100, 'p_m': 0.02, 'pop_size': 50}, trial: 5, best fitness: -17967.205812401004\n",
      "Algorithm: BaseBBO, with params: {'elites': 4, 'epoch': 100, 'p_m': 0.05, 'pop_size': 50}, trial: 1, best fitness: -17967.205812401004\n",
      "Algorithm: BaseBBO, with params: {'elites': 4, 'epoch': 100, 'p_m': 0.05, 'pop_size': 50}, trial: 2, best fitness: -17967.205812401004\n",
      "Algorithm: BaseBBO, with params: {'elites': 4, 'epoch': 100, 'p_m': 0.05, 'pop_size': 50}, trial: 3, best fitness: -17967.205812401004\n",
      "Algorithm: BaseBBO, with params: {'elites': 4, 'epoch': 100, 'p_m': 0.05, 'pop_size': 50}, trial: 4, best fitness: -17968.73262917797\n",
      "Algorithm: BaseBBO, with params: {'elites': 4, 'epoch': 100, 'p_m': 0.05, 'pop_size': 50}, trial: 5, best fitness: -17969.400671582065\n",
      "Algorithm: BaseBBO, with params: {'elites': 4, 'epoch': 100, 'p_m': 0.1, 'pop_size': 50}, trial: 1, best fitness: -17972.759337439133\n",
      "Algorithm: BaseBBO, with params: {'elites': 4, 'epoch': 100, 'p_m': 0.1, 'pop_size': 50}, trial: 2, best fitness: -17972.759337439133\n"
     ]
    },
    {
     "name": "stdout",
     "output_type": "stream",
     "text": [
      "Algorithm: BaseBBO, with params: {'elites': 4, 'epoch': 100, 'p_m': 0.1, 'pop_size': 50}, trial: 3, best fitness: -17972.759337439133\n",
      "Algorithm: BaseBBO, with params: {'elites': 4, 'epoch': 100, 'p_m': 0.1, 'pop_size': 50}, trial: 4, best fitness: -17972.759337439133\n",
      "Algorithm: BaseBBO, with params: {'elites': 4, 'epoch': 100, 'p_m': 0.1, 'pop_size': 50}, trial: 5, best fitness: -17972.759337439133\n",
      "Algorithm: BaseBBO, with params: {'elites': 4, 'epoch': 100, 'p_m': 0.15, 'pop_size': 50}, trial: 1, best fitness: -17972.759337439133\n",
      "Algorithm: BaseBBO, with params: {'elites': 4, 'epoch': 100, 'p_m': 0.15, 'pop_size': 50}, trial: 2, best fitness: -17972.759337439133\n",
      "Algorithm: BaseBBO, with params: {'elites': 4, 'epoch': 100, 'p_m': 0.15, 'pop_size': 50}, trial: 3, best fitness: -17974.199580152435\n",
      "Algorithm: BaseBBO, with params: {'elites': 4, 'epoch': 100, 'p_m': 0.15, 'pop_size': 50}, trial: 4, best fitness: -17974.199580152435\n",
      "Algorithm: BaseBBO, with params: {'elites': 4, 'epoch': 100, 'p_m': 0.15, 'pop_size': 50}, trial: 5, best fitness: -17974.199580152435\n",
      "Algorithm: BaseBBO, with params: {'elites': 4, 'epoch': 100, 'p_m': 0.2, 'pop_size': 50}, trial: 1, best fitness: -17974.199580152435\n",
      "Algorithm: BaseBBO, with params: {'elites': 4, 'epoch': 100, 'p_m': 0.2, 'pop_size': 50}, trial: 2, best fitness: -17974.199580152435\n",
      "Algorithm: BaseBBO, with params: {'elites': 4, 'epoch': 100, 'p_m': 0.2, 'pop_size': 50}, trial: 3, best fitness: -17974.199580152435\n",
      "Algorithm: BaseBBO, with params: {'elites': 4, 'epoch': 100, 'p_m': 0.2, 'pop_size': 50}, trial: 4, best fitness: -17974.199580152435\n",
      "Algorithm: BaseBBO, with params: {'elites': 4, 'epoch': 100, 'p_m': 0.2, 'pop_size': 50}, trial: 5, best fitness: -17974.199580152435\n",
      "Algorithm: BaseBBO, with params: {'elites': 5, 'epoch': 100, 'p_m': 0.01, 'pop_size': 50}, trial: 1, best fitness: -17974.582695148307\n",
      "Algorithm: BaseBBO, with params: {'elites': 5, 'epoch': 100, 'p_m': 0.01, 'pop_size': 50}, trial: 2, best fitness: -17974.582695148307\n",
      "Algorithm: BaseBBO, with params: {'elites': 5, 'epoch': 100, 'p_m': 0.01, 'pop_size': 50}, trial: 3, best fitness: -17974.582695148307\n",
      "Algorithm: BaseBBO, with params: {'elites': 5, 'epoch': 100, 'p_m': 0.01, 'pop_size': 50}, trial: 4, best fitness: -17974.582695148307\n",
      "Algorithm: BaseBBO, with params: {'elites': 5, 'epoch': 100, 'p_m': 0.01, 'pop_size': 50}, trial: 5, best fitness: -17974.582695148307\n",
      "Algorithm: BaseBBO, with params: {'elites': 5, 'epoch': 100, 'p_m': 0.02, 'pop_size': 50}, trial: 1, best fitness: -17974.582695148307\n",
      "Algorithm: BaseBBO, with params: {'elites': 5, 'epoch': 100, 'p_m': 0.02, 'pop_size': 50}, trial: 2, best fitness: -17975.301211174607\n",
      "Algorithm: BaseBBO, with params: {'elites': 5, 'epoch': 100, 'p_m': 0.02, 'pop_size': 50}, trial: 3, best fitness: -17975.301211174607\n",
      "Algorithm: BaseBBO, with params: {'elites': 5, 'epoch': 100, 'p_m': 0.02, 'pop_size': 50}, trial: 4, best fitness: -17975.301211174607\n",
      "Algorithm: BaseBBO, with params: {'elites': 5, 'epoch': 100, 'p_m': 0.02, 'pop_size': 50}, trial: 5, best fitness: -17975.301211174607\n",
      "Algorithm: BaseBBO, with params: {'elites': 5, 'epoch': 100, 'p_m': 0.05, 'pop_size': 50}, trial: 1, best fitness: -17975.301211174607\n",
      "Algorithm: BaseBBO, with params: {'elites': 5, 'epoch': 100, 'p_m': 0.05, 'pop_size': 50}, trial: 2, best fitness: -17975.301211174607\n",
      "Algorithm: BaseBBO, with params: {'elites': 5, 'epoch': 100, 'p_m': 0.05, 'pop_size': 50}, trial: 3, best fitness: -17975.301211174607\n",
      "Algorithm: BaseBBO, with params: {'elites': 5, 'epoch': 100, 'p_m': 0.05, 'pop_size': 50}, trial: 4, best fitness: -17975.301211174607\n",
      "Algorithm: BaseBBO, with params: {'elites': 5, 'epoch': 100, 'p_m': 0.05, 'pop_size': 50}, trial: 5, best fitness: -17975.301211174607\n",
      "Algorithm: BaseBBO, with params: {'elites': 5, 'epoch': 100, 'p_m': 0.1, 'pop_size': 50}, trial: 1, best fitness: -17975.301211174607\n",
      "Algorithm: BaseBBO, with params: {'elites': 5, 'epoch': 100, 'p_m': 0.1, 'pop_size': 50}, trial: 2, best fitness: -17975.301211174607\n",
      "Algorithm: BaseBBO, with params: {'elites': 5, 'epoch': 100, 'p_m': 0.1, 'pop_size': 50}, trial: 3, best fitness: -17978.902236255075\n",
      "Algorithm: BaseBBO, with params: {'elites': 5, 'epoch': 100, 'p_m': 0.1, 'pop_size': 50}, trial: 4, best fitness: -17978.902236255075\n",
      "Algorithm: BaseBBO, with params: {'elites': 5, 'epoch': 100, 'p_m': 0.1, 'pop_size': 50}, trial: 5, best fitness: -17978.902236255075\n",
      "Algorithm: BaseBBO, with params: {'elites': 5, 'epoch': 100, 'p_m': 0.15, 'pop_size': 50}, trial: 1, best fitness: -17978.902236255075\n",
      "Algorithm: BaseBBO, with params: {'elites': 5, 'epoch': 100, 'p_m': 0.15, 'pop_size': 50}, trial: 2, best fitness: -17978.968212334847\n",
      "Algorithm: BaseBBO, with params: {'elites': 5, 'epoch': 100, 'p_m': 0.15, 'pop_size': 50}, trial: 3, best fitness: -17978.968212334847\n",
      "Algorithm: BaseBBO, with params: {'elites': 5, 'epoch': 100, 'p_m': 0.15, 'pop_size': 50}, trial: 4, best fitness: -17982.050924680094\n",
      "Algorithm: BaseBBO, with params: {'elites': 5, 'epoch': 100, 'p_m': 0.15, 'pop_size': 50}, trial: 5, best fitness: -17982.050924680094\n",
      "Algorithm: BaseBBO, with params: {'elites': 5, 'epoch': 100, 'p_m': 0.2, 'pop_size': 50}, trial: 1, best fitness: -17982.050924680094\n",
      "Algorithm: BaseBBO, with params: {'elites': 5, 'epoch': 100, 'p_m': 0.2, 'pop_size': 50}, trial: 2, best fitness: -17982.050924680094\n",
      "Algorithm: BaseBBO, with params: {'elites': 5, 'epoch': 100, 'p_m': 0.2, 'pop_size': 50}, trial: 3, best fitness: -17982.050924680094\n",
      "Algorithm: BaseBBO, with params: {'elites': 5, 'epoch': 100, 'p_m': 0.2, 'pop_size': 50}, trial: 4, best fitness: -17982.050924680094\n",
      "Algorithm: BaseBBO, with params: {'elites': 5, 'epoch': 100, 'p_m': 0.2, 'pop_size': 50}, trial: 5, best fitness: -17982.050924680094\n",
      "Best parameter: {'elites': 5, 'epoch': 100, 'p_m': 0.2, 'pop_size': 50}\n",
      "Best score: -17982.050924680094\n",
      "Best Optimizer: BaseBBO(epoch=100, pop_size=50, p_m=0.2, elites=5)\n",
      "Best solution after re-solve: [-9.99302409 -9.99409106 -9.99851716 -9.99957388 -9.99998792 -9.99354664\n",
      " -9.99349714 -9.99996757 -9.99944835 -9.99843385 -9.99735596 -9.99480769\n",
      " -9.99560949 -9.9953219  -9.99615457 -9.99899886 -9.9978175  -9.99844372\n",
      " -9.9986804  -9.9925845 ]\n",
      "Best fitness after re-solve: -17982.050924680094\n"
     ]
    },
    {
     "name": "stderr",
     "output_type": "stream",
     "text": [
      "D:\\github\\libs\\mealpy\\mealpy\\optimizer.py:316: RuntimeWarning: invalid value encountered in true_divide\n",
      "  self.history.list_exploration = 100 * (np.array(self.history.list_diversity) / div_max)\n"
     ]
    }
   ],
   "source": [
    "    ## Try to run this optimizer on this problem 5 times (n_trials = 5). \n",
    "    ## Get the best model by mean value of all trials\n",
    "    tuner.execute(problem=problem, n_trials=5)\n",
    "    \n",
    "    ## Better to save the tunning results to CSV for later usage\n",
    "    tuner.export_results(\"history/tuning2\", save_as=\"csv\")\n",
    "    \n",
    "    ## Print out the best pameters\n",
    "    print(f\"Best parameter: {tuner.best_params}\")\n",
    "    \n",
    "    ## Print out the best score of the best parameter\n",
    "    print(f\"Best score: {tuner.best_score}\")\n",
    "    \n",
    "    ## Print out the algorithm with the best parameter\n",
    "    print(f\"Best Optimizer: {tuner.best_algorithm}\")\n",
    "    \n",
    "    \n",
    "    ## Now we can even re-train the algorithm with the best parameter by calling resolve() function \n",
    "    ## Resolve() function will call the solve() function in algorithm with default problem parameter is removed. \n",
    "    ##    other parameters of solve() function is keeped and can be used.\n",
    "    \n",
    "    best_position, best_fitness = tuner.resolve()\n",
    "    print(f\"Best solution after re-solve: {best_position}\")\n",
    "    print(f\"Best fitness after re-solve: {best_fitness}\")"
   ]
  },
  {
   "cell_type": "code",
   "execution_count": null,
   "metadata": {},
   "outputs": [],
   "source": []
  }
 ],
 "metadata": {
  "kernelspec": {
   "display_name": "Python 3 (ipykernel)",
   "language": "python",
   "name": "python3"
  },
  "language_info": {
   "codemirror_mode": {
    "name": "ipython",
    "version": 3
   },
   "file_extension": ".py",
   "mimetype": "text/x-python",
   "name": "python",
   "nbconvert_exporter": "python",
   "pygments_lexer": "ipython3",
   "version": "3.8.5"
  }
 },
 "nbformat": 4,
 "nbformat_minor": 1
}