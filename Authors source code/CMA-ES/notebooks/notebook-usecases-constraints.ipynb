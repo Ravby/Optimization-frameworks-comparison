{
 "cells": [
  {
   "cell_type": "markdown",
   "metadata": {},
   "source": [
    "# Constraints\n",
    "Generally, a vector-valued constraints function, $g$, defines a solution $x$ as feasible if and only if $g_i(x) \\le 0$ for all $i$. In order to optimize a function with some constraints, we use the class `ConstrainedFitnessAL` which constructs an Augmented Lagrangian objective function from the objective and arbitrary non-linear constraints.\n",
    "\n",
    "For some positive and changing parameters $\\lambda_i, \\mu_i$, the constructed function is\n",
    "\n",
    "$$x\\mapsto f(x) + \\sum_i (\\lambda_i g_i + \\frac{\\mu_i}{2}g_i^2)$$\n",
    "\n",
    "where $g_i := \\max\\left(g_i(x), -\\frac{\\lambda_i}{\\mu_i}\\right)$. This is not expected to work well if the constraint is a step function at the feasibility boundary.\n",
    "\n",
    "For simplicity, let's consider a constraint that restricts the second variable to values $\\le-1$. \n"
   ]
  },
  {
   "cell_type": "code",
   "execution_count": null,
   "metadata": {},
   "outputs": [],
   "source": [
    "import cma\n",
    "\n",
    "fun = cma.ff.elli  # we could use `functools.partial(cma.ff.elli, cond=1e4)` to change the condition number to 1e4\n",
    "def constraints(x):\n",
    "    return [x[1] - -1, x[1] - -0.9]  # constrain the second variable to <= -1, the second constraint is superfluous\n",
    "cfun = cma.ConstrainedFitnessAL(fun, constraints)  # unconstrained function with adaptive Lagrange multipliers\n",
    "\n",
    "x0 = 4 * [2]  # initial solution\n",
    "sigma0 = 1    # initial standard deviation to sample new solutions\n",
    "\n",
    "x, es = cma.fmin2(cfun, x0, sigma0, {'tolstagnation': 0}, callback=cfun.update)\n",
    "x = es.result.xfavorite  # the original x-value may be meaningless\n",
    "constraints(x)  # show constraint violation values"
   ]
  },
  {
   "cell_type": "markdown",
   "metadata": {},
   "source": [
    "The solution `es.result.xfavorite` is expected to be close to the feasible domain, but it may not be \"stricly\" feasible. To find a truly feasible solution, we can run a post-optimization like"
   ]
  },
  {
   "cell_type": "code",
   "execution_count": null,
   "metadata": {},
   "outputs": [],
   "source": [
    "c = es.countiter\n",
    "x = cfun.find_feasible(es)\n",
    "print(\"find_feasible took {} iterations\".format(es.countiter - c))\n",
    "constraints(x)  # is now <= 0"
   ]
  },
  {
   "cell_type": "markdown",
   "metadata": {},
   "source": [
    "We can also plot the time evolution of feasibility and Augmented Lagrangian parameters and, of course, the standard plot: "
   ]
  },
  {
   "cell_type": "code",
   "execution_count": null,
   "metadata": {},
   "outputs": [],
   "source": [
    "# \"%matplotlib widget\" gives interactive inline plots (pip install --upgrade jupyterlab ipympl); CAVEAT: it does not open a new figure automatically\n",
    "# fix failing variable completion: %config Completer.use_jedi = False"
   ]
  },
  {
   "cell_type": "code",
   "execution_count": null,
   "metadata": {
    "tags": []
   },
   "outputs": [],
   "source": [
    "es.plot(xsemilog=True, x_opt=[0, -1] + (len(x0) - 2) * [0]);"
   ]
  },
  {
   "cell_type": "code",
   "execution_count": null,
   "metadata": {
    "tags": []
   },
   "outputs": [],
   "source": [
    "cfun.al.loggers.plot()"
   ]
  },
  {
   "cell_type": "markdown",
   "metadata": {},
   "source": [
    "The `ConstrainedFitnessAL` class instance provides some more detailed information:"
   ]
  },
  {
   "cell_type": "code",
   "execution_count": null,
   "metadata": {},
   "outputs": [],
   "source": [
    "cfun.archives[0].archive  # non-dominated list of [f, aggregate(g)], feasible if aggregate(g) <= 0"
   ]
  },
  {
   "cell_type": "code",
   "execution_count": null,
   "metadata": {},
   "outputs": [],
   "source": [
    "cfun.archives[0].archive.infos[-1]"
   ]
  },
  {
   "cell_type": "markdown",
   "metadata": {},
   "source": [
    "Details about the best feasible solution can be found under its `info` attribute.\n"
   ]
  },
  {
   "cell_type": "code",
   "execution_count": null,
   "metadata": {},
   "outputs": [],
   "source": [
    "cfun.best_feas.info"
   ]
  },
  {
   "cell_type": "code",
   "execution_count": null,
   "metadata": {},
   "outputs": [],
   "source": []
  },
  {
   "cell_type": "markdown",
   "metadata": {},
   "source": [
    "# Ask-and-Tell Interface\n",
    "We can use the underlying `CMAEvolutionStrategy` class, on which `cma.fmin2` is based, to get more control over the optimization loop."
   ]
  },
  {
   "cell_type": "code",
   "execution_count": null,
   "metadata": {},
   "outputs": [],
   "source": [
    "# a more verbose way to run ``_, es = cma.fmin2(cfun, x0, sigma0)``\n",
    "\n",
    "cfun = cma.ConstrainedFitnessAL(fun, constraints)  # unconstrained function with adaptive Lagrange multipliers\n",
    "es = cma.CMAEvolutionStrategy(x0, sigma0)\n",
    "\n",
    "while not es.stop():\n",
    "    X = es.ask()  # sample len(X) candidate solutions\n",
    "    es.tell(X, [cfun(x) for x in X])\n",
    "    cfun.update(es)\n",
    "    es.logger.add()  # for later plotting\n",
    "    es.disp()\n",
    "es.result_pretty()"
   ]
  },
  {
   "cell_type": "markdown",
   "metadata": {},
   "source": [
    "If the function or constraints take additional arguments, they can be assigned ahead of time using [`functools.partial`](https://docs.python.org/3/library/functools.html), even to a mutable data type which makes it possible to change them dynamically."
   ]
  },
  {
   "cell_type": "code",
   "execution_count": null,
   "metadata": {},
   "outputs": [],
   "source": [
    "cma.plot();"
   ]
  },
  {
   "cell_type": "code",
   "execution_count": null,
   "metadata": {},
   "outputs": [],
   "source": []
  }
 ],
 "metadata": {
  "interpreter": {
   "hash": "d63c44124e99970b36478bac7366f7234ff1cfabe1191de4da3d5c25c8ed9e11"
  },
  "kernelspec": {
   "display_name": "Python 3 (ipykernel)",
   "language": "python",
   "name": "python3"
  },
  "language_info": {
   "codemirror_mode": {
    "name": "ipython",
    "version": 3
   },
   "file_extension": ".py",
   "mimetype": "text/x-python",
   "name": "python",
   "nbconvert_exporter": "python",
   "pygments_lexer": "ipython3",
   "version": "3.7.12"
  }
 },
 "nbformat": 4,
 "nbformat_minor": 4
}
