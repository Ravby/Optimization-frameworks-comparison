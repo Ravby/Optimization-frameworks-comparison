{
 "cells": [
  {
   "cell_type": "code",
   "execution_count": null,
   "id": "initial_id",
   "metadata": {
    "collapsed": true
   },
   "outputs": [],
   "source": [
    "import numpy as np\n",
    "import matplotlib.pyplot as plt\n",
    "from mpl_toolkits.mplot3d import Axes3D\n",
    "\n",
    "# Schwefel function (non-shifted, from your notebook)\n",
    "def schwefel12(x):\n",
    "    fitness = 0\n",
    "    for i in range(len(x)):\n",
    "        sum_j = sum(x[i] for j in range(i))  # Sum up to i\n",
    "        fitness += sum_j ** 2\n",
    "    return fitness\n",
    "\n",
    "# Create grid for 2D Schwefel function\n",
    "x1 = np.linspace(-5, 5, 100)\n",
    "x2 = np.linspace(-5, 5, 100)\n",
    "X1, X2 = np.meshgrid(x1, x2)\n",
    "Z = np.zeros_like(X1)\n",
    "\n",
    "# Compute function values over the grid\n",
    "for i in range(X1.shape[0]):\n",
    "    for j in range(X1.shape[1]):\n",
    "        Z[i, j] = schwefel12([X1[i, j], X2[i, j]])\n",
    "\n",
    "# 3D Surface Plot\n",
    "fig = plt.figure(figsize=(12, 5))\n",
    "\n",
    "# Subplot 1: 3D Surface\n",
    "ax1 = fig.add_subplot(121, projection='3d')\n",
    "surf = ax1.plot_surface(X1, X2, Z, cmap='viridis')\n",
    "ax1.set_xlabel('x1')\n",
    "ax1.set_ylabel('x2')\n",
    "ax1.set_zlabel('f(x)')\n",
    "ax1.set_title('Schwefel 2 Function (2D) - Surface Plot')\n",
    "fig.colorbar(surf, ax=ax1, shrink=0.5, aspect=5)\n",
    "\n",
    "# Subplot 2: 2D Contour\n",
    "ax2 = fig.add_subplot(122)\n",
    "contour = ax2.contourf(X1, X2, Z, cmap='viridis', levels=20)\n",
    "ax2.set_xlabel('x1')\n",
    "ax2.set_ylabel('x2')\n",
    "ax2.set_title('Schwefel 2 Function (2D) - Contour Plot')\n",
    "fig.colorbar(contour, ax=ax2, shrink=0.5, aspect=5)\n",
    "\n",
    "plt.tight_layout()\n",
    "plt.show()"
   ]
  },
  {
   "cell_type": "code",
   "execution_count": null,
   "outputs": [],
   "source": [],
   "metadata": {
    "collapsed": false
   },
   "id": "c95368762fcb0132"
  }
 ],
 "metadata": {
  "kernelspec": {
   "display_name": "Python 3",
   "language": "python",
   "name": "python3"
  },
  "language_info": {
   "codemirror_mode": {
    "name": "ipython",
    "version": 2
   },
   "file_extension": ".py",
   "mimetype": "text/x-python",
   "name": "python",
   "nbconvert_exporter": "python",
   "pygments_lexer": "ipython2",
   "version": "2.7.6"
  }
 },
 "nbformat": 4,
 "nbformat_minor": 5
}
